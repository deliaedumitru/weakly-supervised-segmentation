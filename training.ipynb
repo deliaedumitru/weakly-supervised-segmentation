{
 "cells": [
  {
   "cell_type": "markdown",
   "metadata": {},
   "source": [
    "# Training a Unet model for segmentation"
   ]
  },
  {
   "cell_type": "markdown",
   "metadata": {},
   "source": [
    "Importing useful packages"
   ]
  },
  {
   "cell_type": "code",
   "execution_count": 1,
   "metadata": {},
   "outputs": [],
   "source": [
    "import torch\n",
    "from torch import nn\n",
    "from torch.utils.data import DataLoader, Dataset, random_split\n",
    "from torchvision import datasets\n",
    "from torchvision.transforms import ToTensor\n",
    "\n",
    "import os\n",
    "import numpy as np\n",
    "import matplotlib.pyplot as plt\n",
    "from skimage import io\n",
    "import ipdb\n",
    "import pandas as pd"
   ]
  },
  {
   "cell_type": "markdown",
   "metadata": {},
   "source": [
    "Useful paths"
   ]
  },
  {
   "cell_type": "code",
   "execution_count": 2,
   "metadata": {},
   "outputs": [],
   "source": [
    "TILE_PATH = './dataset/tiles/images/'\n",
    "TILE_GT_PATH = './dataset/tiles/ground_truth/'\n",
    "LABELS_FILE = './dataset/tiles/labels.csv'"
   ]
  },
  {
   "cell_type": "markdown",
   "metadata": {},
   "source": [
    "### Loading the data\n",
    "\n",
    "First we create a Dataset object and a transform function that converts a data point to a tensor. We load the tile dataset and then we split it randomly as follows: \n",
    "\n",
    "* 10% N1 train - pixel-level labels;\n",
    "* 70% N2 train - class labels;\n",
    "* 20% validation - validation set."
   ]
  },
  {
   "cell_type": "code",
   "execution_count": 3,
   "metadata": {},
   "outputs": [],
   "source": [
    "class VaihingenDataset(Dataset):\n",
    "\n",
    "    def __init__(self, img_dir, gt_dir, labels_f, strong_idx, weak_idx=[], transform=None):\n",
    "\n",
    "        self.img_dir = img_dir\n",
    "        self.gt_dir = gt_dir\n",
    "        self.labels_f = labels_f\n",
    "        \n",
    "        self.strong_idx = strong_idx\n",
    "        self.weak_idx = weak_idx\n",
    "        \n",
    "        self.labels = pd.read_csv(labels_f, header=None)\n",
    "\n",
    "        self.transform = transform\n",
    "\n",
    "    def __len__(self):\n",
    "        return len(self.strong_idx) + len(self.weak_idx)\n",
    "\n",
    "    def __getitem__(self, idx):\n",
    "        \n",
    "        f_name = self.labels.iloc[idx][0]\n",
    "\n",
    "        img_name = os.path.join(self.img_dir, '{}.png'.format(f_name))\n",
    "        gt_name = os.path.join(self.gt_dir, '{}.png'.format(f_name))\n",
    "            \n",
    "        labels = np.array(self.labels.iloc[idx][1:])\n",
    "        \n",
    "        img = io.imread(img_name) \n",
    "        gt = io.imread(gt_name)\n",
    "        \n",
    "        # normalizing the data\n",
    "        img_float = img / 255.\n",
    "        gt_float = gt / 255.\n",
    "        \n",
    "        if idx in self.weak_idx:\n",
    "            sample = {\n",
    "                'image': img_float.astype(np.float32),\n",
    "                'ground_truth': gt_float.astype(np.float32),\n",
    "                'labels': labels.astype(np.float32),\n",
    "                'strong': False\n",
    "            }\n",
    "        else:\n",
    "            sample = {\n",
    "                'image': img_float.astype(np.float32),\n",
    "                'ground_truth': gt_float.astype(np.float32),\n",
    "                'labels': labels.astype(np.float32),\n",
    "                'strong': True\n",
    "            }\n",
    "                \n",
    "        if self.transform:\n",
    "            sample = self.transform(sample)\n",
    "\n",
    "        return sample"
   ]
  },
  {
   "cell_type": "code",
   "execution_count": 4,
   "metadata": {},
   "outputs": [],
   "source": [
    "class ToTensor(object):\n",
    "\n",
    "    def __call__(self, sample):\n",
    "        img, gt, labels, strong = sample['image'], sample['ground_truth'], sample['labels'], sample['strong']\n",
    "\n",
    "        # swapping axes for images\n",
    "        img = img.transpose((2, 0, 1))\n",
    "        gt = gt.transpose((2, 0, 1))\n",
    "        \n",
    "        return {\n",
    "            'image': torch.from_numpy(img),\n",
    "            'ground_truth': torch.from_numpy(gt),\n",
    "            'labels': torch.from_numpy(labels),\n",
    "            'strong': strong\n",
    "        }"
   ]
  },
  {
   "cell_type": "code",
   "execution_count": 5,
   "metadata": {},
   "outputs": [
    {
     "name": "stdout",
     "output_type": "stream",
     "text": [
      "Strong labels set size: 1463/14635.\n",
      "Weak labels set size: 10244/14635.\n",
      "Validation set size: 2928/14635.\n"
     ]
    }
   ],
   "source": [
    "file_list = pd.read_csv(LABELS_FILE)\n",
    "\n",
    "strong_ds_len = int(0.1 * len(file_list))\n",
    "weak_ds_len = int(0.7 * len(file_list))\n",
    "valid_ds_len = len(file_list) - strong_ds_len - weak_ds_len\n",
    "\n",
    "# we split the data in a deterministic way to consistently measure the results\n",
    "strong_idx = np.asarray(range(0, strong_ds_len))\n",
    "weak_idx = np.asarray(range(strong_ds_len, strong_ds_len + weak_ds_len))\n",
    "valid_idx = np.asarray(range(strong_ds_len + weak_ds_len, len(file_list)))\n",
    "\n",
    "print('Strong labels set size: {}/{}.'.format(strong_ds_len, len(file_list)))\n",
    "print('Weak labels set size: {}/{}.'.format(weak_ds_len, len(file_list)))\n",
    "print('Validation set size: {}/{}.'.format(valid_ds_len, len(file_list)))"
   ]
  },
  {
   "cell_type": "code",
   "execution_count": 6,
   "metadata": {},
   "outputs": [
    {
     "data": {
      "image/png": "[encoded data removed]",
      "text/plain": [
       "<Figure size 700x500 with 1 Axes>"
      ]
     },
     "metadata": {
      "needs_background": "light"
     },
     "output_type": "display_data"
    }
   ],
   "source": [
    "class_freq_per_img = np.array(file_list.iloc[:, 1:]).sum(axis=0)\n",
    "\n",
    "plt.rcParams.update({'figure.figsize':(7,5), 'figure.dpi':100})\n",
    "\n",
    "plt.bar(list(range(1,6)), class_freq_per_img, 1)\n",
    "\n",
    "plt.title('Class frequency per image')\n",
    "plt.xlabel('Class')\n",
    "plt.ylabel('Frequency')\n",
    "plt.show()"
   ]
  },
  {
   "cell_type": "code",
   "execution_count": 7,
   "metadata": {},
   "outputs": [],
   "source": [
    "from utils import color_key\n",
    "\n",
    "color_key = np.asarray(color_key) / 255.\n",
    "class_freq_per_pixel = np.zeros(5)\n",
    "\n",
    "simple_ds = VaihingenDataset(TILE_PATH, TILE_GT_PATH, LABELS_FILE, strong_idx, weak_idx)\n",
    "\n",
    "for i in strong_idx:\n",
    "    data_point = simple_ds[i]['ground_truth']\n",
    "    for j in range(len(color_key)):\n",
    "        class_freq_per_pixel[j] += np.count_nonzero((data_point == color_key[j]).all(2))"
   ]
  },
  {
   "cell_type": "code",
   "execution_count": 8,
   "metadata": {},
   "outputs": [
    {
     "data": {
      "image/png": "[encoded data removed]",
      "text/plain": [
       "<Figure size 700x500 with 1 Axes>"
      ]
     },
     "metadata": {
      "needs_background": "light"
     },
     "output_type": "display_data"
    }
   ],
   "source": [
    "plt.rcParams.update({'figure.figsize':(7,5), 'figure.dpi':100})\n",
    "\n",
    "plt.bar(list(range(1,6)), class_freq_per_pixel, 1)\n",
    "\n",
    "plt.title('Class frequency per pixel')\n",
    "plt.xlabel('Class')\n",
    "plt.ylabel('Frequency')\n",
    "plt.show()"
   ]
  },
  {
   "cell_type": "code",
   "execution_count": 6,
   "metadata": {},
   "outputs": [],
   "source": [
    "ds_train_strong = VaihingenDataset(TILE_PATH, TILE_GT_PATH, LABELS_FILE, strong_idx, transform=ToTensor())\n",
    "ds_train_full = VaihingenDataset(TILE_PATH, TILE_GT_PATH, LABELS_FILE, strong_idx, weak_idx, transform=ToTensor())\n",
    "ds_valid = VaihingenDataset(TILE_PATH, TILE_GT_PATH, LABELS_FILE, valid_idx, transform=ToTensor())"
   ]
  },
  {
   "cell_type": "markdown",
   "metadata": {},
   "source": [
    "We define a data loader for each subset"
   ]
  },
  {
   "cell_type": "code",
   "execution_count": 7,
   "metadata": {},
   "outputs": [],
   "source": [
    "BATCH_SIZE = 16\n",
    "\n",
    "strong_dataloader = DataLoader(ds_train_strong, batch_size=BATCH_SIZE)\n",
    "full_dataloader = DataLoader(ds_train_full, batch_size=BATCH_SIZE)\n",
    "valid_dataloader = DataLoader(ds_valid, batch_size=BATCH_SIZE)"
   ]
  },
  {
   "cell_type": "markdown",
   "metadata": {},
   "source": [
    "### Training & testing the segmentation model\n",
    "\n",
    "We are using a Unet model; the architecture is part of the tutorial that can be found [here](https://www.youtube.com/watch?v=IHq1t7NxS8k)."
   ]
  },
  {
   "cell_type": "code",
   "execution_count": 8,
   "metadata": {},
   "outputs": [],
   "source": [
    "from UNET import UNET\n",
    "\n",
    "model = UNET(out_channels=3)\n",
    "\n",
    "loss_fn = nn.MSELoss()\n",
    "optimizer = torch.optim.Adam(model.parameters(), lr=1e-3)"
   ]
  },
  {
   "cell_type": "code",
   "execution_count": 9,
   "metadata": {},
   "outputs": [
    {
     "name": "stdout",
     "output_type": "stream",
     "text": [
      "UNET(\n",
      "  (ups): ModuleList(\n",
      "    (0): ConvTranspose2d(256, 128, kernel_size=(2, 2), stride=(2, 2))\n",
      "    (1): DoubleConv(\n",
      "      (conv): Sequential(\n",
      "        (0): Conv2d(256, 128, kernel_size=(3, 3), stride=(1, 1), padding=(1, 1), bias=False)\n",
      "        (1): BatchNorm2d(128, eps=1e-05, momentum=0.1, affine=True, track_running_stats=True)\n",
      "        (2): ReLU(inplace=True)\n",
      "        (3): Conv2d(128, 128, kernel_size=(3, 3), stride=(1, 1), padding=(1, 1), bias=False)\n",
      "        (4): BatchNorm2d(128, eps=1e-05, momentum=0.1, affine=True, track_running_stats=True)\n",
      "        (5): ReLU(inplace=True)\n",
      "      )\n",
      "    )\n",
      "    (2): ConvTranspose2d(128, 64, kernel_size=(2, 2), stride=(2, 2))\n",
      "    (3): DoubleConv(\n",
      "      (conv): Sequential(\n",
      "        (0): Conv2d(128, 64, kernel_size=(3, 3), stride=(1, 1), padding=(1, 1), bias=False)\n",
      "        (1): BatchNorm2d(64, eps=1e-05, momentum=0.1, affine=True, track_running_stats=True)\n",
      "        (2): ReLU(inplace=True)\n",
      "        (3): Conv2d(64, 64, kernel_size=(3, 3), stride=(1, 1), padding=(1, 1), bias=False)\n",
      "        (4): BatchNorm2d(64, eps=1e-05, momentum=0.1, affine=True, track_running_stats=True)\n",
      "        (5): ReLU(inplace=True)\n",
      "      )\n",
      "    )\n",
      "    (4): ConvTranspose2d(64, 32, kernel_size=(2, 2), stride=(2, 2))\n",
      "    (5): DoubleConv(\n",
      "      (conv): Sequential(\n",
      "        (0): Conv2d(64, 32, kernel_size=(3, 3), stride=(1, 1), padding=(1, 1), bias=False)\n",
      "        (1): BatchNorm2d(32, eps=1e-05, momentum=0.1, affine=True, track_running_stats=True)\n",
      "        (2): ReLU(inplace=True)\n",
      "        (3): Conv2d(32, 32, kernel_size=(3, 3), stride=(1, 1), padding=(1, 1), bias=False)\n",
      "        (4): BatchNorm2d(32, eps=1e-05, momentum=0.1, affine=True, track_running_stats=True)\n",
      "        (5): ReLU(inplace=True)\n",
      "      )\n",
      "    )\n",
      "  )\n",
      "  (downs): ModuleList(\n",
      "    (0): DoubleConv(\n",
      "      (conv): Sequential(\n",
      "        (0): Conv2d(3, 32, kernel_size=(3, 3), stride=(1, 1), padding=(1, 1), bias=False)\n",
      "        (1): BatchNorm2d(32, eps=1e-05, momentum=0.1, affine=True, track_running_stats=True)\n",
      "        (2): ReLU(inplace=True)\n",
      "        (3): Conv2d(32, 32, kernel_size=(3, 3), stride=(1, 1), padding=(1, 1), bias=False)\n",
      "        (4): BatchNorm2d(32, eps=1e-05, momentum=0.1, affine=True, track_running_stats=True)\n",
      "        (5): ReLU(inplace=True)\n",
      "      )\n",
      "    )\n",
      "    (1): DoubleConv(\n",
      "      (conv): Sequential(\n",
      "        (0): Conv2d(32, 64, kernel_size=(3, 3), stride=(1, 1), padding=(1, 1), bias=False)\n",
      "        (1): BatchNorm2d(64, eps=1e-05, momentum=0.1, affine=True, track_running_stats=True)\n",
      "        (2): ReLU(inplace=True)\n",
      "        (3): Conv2d(64, 64, kernel_size=(3, 3), stride=(1, 1), padding=(1, 1), bias=False)\n",
      "        (4): BatchNorm2d(64, eps=1e-05, momentum=0.1, affine=True, track_running_stats=True)\n",
      "        (5): ReLU(inplace=True)\n",
      "      )\n",
      "    )\n",
      "    (2): DoubleConv(\n",
      "      (conv): Sequential(\n",
      "        (0): Conv2d(64, 128, kernel_size=(3, 3), stride=(1, 1), padding=(1, 1), bias=False)\n",
      "        (1): BatchNorm2d(128, eps=1e-05, momentum=0.1, affine=True, track_running_stats=True)\n",
      "        (2): ReLU(inplace=True)\n",
      "        (3): Conv2d(128, 128, kernel_size=(3, 3), stride=(1, 1), padding=(1, 1), bias=False)\n",
      "        (4): BatchNorm2d(128, eps=1e-05, momentum=0.1, affine=True, track_running_stats=True)\n",
      "        (5): ReLU(inplace=True)\n",
      "      )\n",
      "    )\n",
      "  )\n",
      "  (pool): MaxPool2d(kernel_size=2, stride=2, padding=0, dilation=1, ceil_mode=False)\n",
      "  (bottleneck): DoubleConv(\n",
      "    (conv): Sequential(\n",
      "      (0): Conv2d(128, 256, kernel_size=(3, 3), stride=(1, 1), padding=(1, 1), bias=False)\n",
      "      (1): BatchNorm2d(256, eps=1e-05, momentum=0.1, affine=True, track_running_stats=True)\n",
      "      (2): ReLU(inplace=True)\n",
      "      (3): Conv2d(256, 256, kernel_size=(3, 3), stride=(1, 1), padding=(1, 1), bias=False)\n",
      "      (4): BatchNorm2d(256, eps=1e-05, momentum=0.1, affine=True, track_running_stats=True)\n",
      "      (5): ReLU(inplace=True)\n",
      "    )\n",
      "  )\n",
      "  (final_conv): Conv2d(32, 3, kernel_size=(1, 1), stride=(1, 1))\n",
      "  (sigmoid): Sigmoid()\n",
      ")\n"
     ]
    }
   ],
   "source": [
    "print(model)"
   ]
  },
  {
   "cell_type": "code",
   "execution_count": 10,
   "metadata": {},
   "outputs": [
    {
     "name": "stdout",
     "output_type": "stream",
     "text": [
      "Using cuda device\n"
     ]
    }
   ],
   "source": [
    "device = \"cuda\" if torch.cuda.is_available() else \"cpu\"\n",
    "print(\"Using {} device\".format(device))\n",
    "\n",
    "if torch.cuda.is_available():\n",
    "    model.cuda()"
   ]
  },
  {
   "cell_type": "code",
   "execution_count": 14,
   "metadata": {},
   "outputs": [],
   "source": [
    "def train(dataloader, model, loss_fn, optimizer):\n",
    "    size = len(dataloader.dataset)\n",
    "    for batch, data in enumerate(dataloader):\n",
    "        img, gt, labels = data['image'].to(device), data['ground_truth'].to(device), data['labels'].to(device)\n",
    "        pred = model(img)\n",
    "        loss = loss_fn(pred, gt)\n",
    "        optimizer.zero_grad()\n",
    "        loss.backward()\n",
    "        optimizer.step()\n",
    "        if batch % 20 == 0:\n",
    "            loss, current = loss.item(), batch * len(img)\n",
    "            print(f\"loss: {loss:>7f}  [{current:>5d}/{size:>5d}]\")"
   ]
  },
  {
   "cell_type": "code",
   "execution_count": 15,
   "metadata": {},
   "outputs": [],
   "source": [
    "def test(dataloader, model, loss_fn):\n",
    "    size = len(dataloader.dataset)\n",
    "    num_batches = len(dataloader)\n",
    "    model.eval()\n",
    "    test_loss, correct = 0, 0\n",
    "    with torch.no_grad():\n",
    "        for data in dataloader:\n",
    "            img, gt, labels = data['image'].to(device), data['ground_truth'].to(device), data['labels'].to(device)\n",
    "            pred = model(img)\n",
    "            test_loss += loss_fn(pred, gt).item()\n",
    "            correct += (torch.count_nonzero((pred > 0.5).type(torch.float) - gt)).item()\n",
    "    test_loss /= num_batches\n",
    "    correct /= size*200*200\n",
    "    print(f\"Test Error: \\n Accuracy: {(100*correct):>0.1f}%, Avg loss: {test_loss:>8f} \\n\")"
   ]
  },
  {
   "cell_type": "code",
   "execution_count": 16,
   "metadata": {},
   "outputs": [
    {
     "name": "stdout",
     "output_type": "stream",
     "text": [
      "Epoch 1\n",
      "-------------------------------\n",
      "loss: 0.149731  [    0/ 1463]\n",
      "loss: 0.118119  [  320/ 1463]\n",
      "loss: 0.110968  [  640/ 1463]\n",
      "loss: 0.113975  [  960/ 1463]\n",
      "loss: 0.074201  [ 1280/ 1463]\n",
      "Test Error: \n",
      " Accuracy: 42.9%, Avg loss: 0.104773 \n",
      "\n",
      "Epoch 2\n",
      "-------------------------------\n",
      "loss: 0.111130  [    0/ 1463]\n",
      "loss: 0.154504  [  320/ 1463]\n",
      "loss: 0.091228  [  640/ 1463]\n",
      "loss: 0.086122  [  960/ 1463]\n",
      "loss: 0.065659  [ 1280/ 1463]\n",
      "Test Error: \n",
      " Accuracy: 38.1%, Avg loss: 0.091909 \n",
      "\n",
      "Epoch 3\n",
      "-------------------------------\n",
      "loss: 0.094645  [    0/ 1463]\n",
      "loss: 0.146475  [  320/ 1463]\n",
      "loss: 0.090708  [  640/ 1463]\n",
      "loss: 0.080001  [  960/ 1463]\n",
      "loss: 0.072882  [ 1280/ 1463]\n",
      "Test Error: \n",
      " Accuracy: 36.4%, Avg loss: 0.089819 \n",
      "\n",
      "Done!\n"
     ]
    }
   ],
   "source": [
    "EPOCHS = 3\n",
    "\n",
    "torch.cuda.empty_cache()\n",
    "\n",
    "for t in range(EPOCHS):\n",
    "    print(f\"Epoch {t+1}\\n-------------------------------\")\n",
    "    train(strong_dataloader, model, loss_fn, optimizer)\n",
    "    test(valid_dataloader, model, loss_fn)\n",
    "print(\"Done!\")"
   ]
  },
  {
   "cell_type": "markdown",
   "metadata": {},
   "source": [
    "Saving the model"
   ]
  },
  {
   "cell_type": "code",
   "execution_count": 17,
   "metadata": {},
   "outputs": [],
   "source": [
    "MODEL_ID = 'strong_segmentation_model.pth'\n",
    "SAVED_MODELS_PATH = './saved_models/'\n",
    "\n",
    "os.makedirs(SAVED_MODELS_PATH, exist_ok=True)\n",
    "\n",
    "torch.save(model.state_dict(), os.path.join(SAVED_MODELS_PATH, MODEL_ID))"
   ]
  },
  {
   "cell_type": "markdown",
   "metadata": {},
   "source": [
    "Some example segmentations with the trained model"
   ]
  },
  {
   "cell_type": "code",
   "execution_count": 20,
   "metadata": {},
   "outputs": [
    {
     "data": {
      "image/png": "[encoded data removed]",
      "text/plain": [
       "<Figure size 4320x720 with 20 Axes>"
      ]
     },
     "metadata": {},
     "output_type": "display_data"
    }
   ],
   "source": [
    "fig=plt.figure(figsize=(60,10))\n",
    "columns = 12\n",
    "rows = 2\n",
    "\n",
    "num_examples = 10\n",
    "\n",
    "i = 1\n",
    "for idx in range(num_examples):\n",
    "    fig.add_subplot(rows, columns, i)\n",
    "    plt.xticks([])\n",
    "    plt.yticks([])\n",
    "    plt.imshow(torch.transpose(ds_valid[idx]['ground_truth'], 0, 2))\n",
    "    fig.add_subplot(rows, columns, columns + i)\n",
    "    \n",
    "    model.eval()\n",
    "    with torch.no_grad():\n",
    "        pred = model(torch.unsqueeze(ds_valid[idx]['image'], dim=0).cuda())\n",
    "        pred = (pred > 0.5).float()\n",
    "    \n",
    "    plt.xticks([])\n",
    "    plt.yticks([])\n",
    "    plt.imshow(torch.transpose(torch.squeeze(pred.cpu()), 0, 2), cmap='gray')\n",
    "    i += 1\n",
    "        \n",
    "plt.xticks([])\n",
    "plt.yticks([])\n",
    "plt.tight_layout()"
   ]
  },
  {
   "cell_type": "markdown",
   "metadata": {},
   "source": []
  },
  {
   "cell_type": "code",
   "execution_count": null,
   "metadata": {},
   "outputs": [],
   "source": []
  }
 ],
 "metadata": {
  "kernelspec": {
   "display_name": "Python 3",
   "language": "python",
   "name": "python3"
  },
  "language_info": {
   "codemirror_mode": {
    "name": "ipython",
    "version": 3
   },
   "file_extension": ".py",
   "mimetype": "text/x-python",
   "name": "python",
   "nbconvert_exporter": "python",
   "pygments_lexer": "ipython3",
   "version": "3.6.7"
  }
 },
 "nbformat": 4,
 "nbformat_minor": 2
}
