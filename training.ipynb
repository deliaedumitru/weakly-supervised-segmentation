{
 "cells": [
  {
   "cell_type": "markdown",
   "metadata": {},
   "source": [
    "# Training a Unet model for segmentation"
   ]
  },
  {
   "cell_type": "markdown",
   "metadata": {},
   "source": [
    "Importing useful packages"
   ]
  },
  {
   "cell_type": "code",
   "execution_count": 1,
   "metadata": {},
   "outputs": [],
   "source": [
    "import torch\n",
    "from torch import nn\n",
    "from torch.utils.data import DataLoader, Dataset, random_split\n",
    "from torchvision import datasets\n",
    "from torchvision.transforms import ToTensor\n",
    "\n",
    "import os\n",
    "import numpy as np\n",
    "import matplotlib.pyplot as plt\n",
    "from skimage import io\n",
    "import ipdb"
   ]
  },
  {
   "cell_type": "markdown",
   "metadata": {},
   "source": [
    "Useful paths"
   ]
  },
  {
   "cell_type": "code",
   "execution_count": 2,
   "metadata": {},
   "outputs": [],
   "source": [
    "TILE_PATH = './dataset/tiles/images/'\n",
    "TILE_GT_PATH = './dataset/tiles/ground_truth/'\n",
    "LABELS_FILE = './dataset/tiles/labels.csv'"
   ]
  },
  {
   "cell_type": "markdown",
   "metadata": {},
   "source": [
    "### Loading the data\n",
    "\n",
    "First we create a Dataset object and a transform function that converts a data point to a tensor. We load the tile dataset and then we split it randomly as follows: \n",
    "\n",
    "* 10% N1 train - pixel-level labels;\n",
    "* 70% N2 train - class labels;\n",
    "* 20% validation - validation set."
   ]
  },
  {
   "cell_type": "code",
   "execution_count": 3,
   "metadata": {},
   "outputs": [],
   "source": [
    "class VaihingenDataset(Dataset):\n",
    "\n",
    "    def __init__(self, img_dir, gt_dir, transform=None):\n",
    "\n",
    "        self.img_dir = img_dir\n",
    "        self.gt_dir = gt_dir\n",
    "\n",
    "        self.data_points = os.listdir(self.img_dir)\n",
    "\n",
    "        self.transform = transform\n",
    "\n",
    "    def __len__(self):\n",
    "        return len(self.data_points)\n",
    "\n",
    "    def __getitem__(self, idx):\n",
    "\n",
    "        img_name = os.path.join(self.img_dir,\n",
    "                                self.data_points[idx])\n",
    "        gt_name = os.path.join(self.gt_dir, self.data_points[idx])\n",
    "\n",
    "        img = io.imread(img_name) \n",
    "        gt = io.imread(gt_name)\n",
    "        \n",
    "        # normalizing the data\n",
    "        img_float = img / 255.\n",
    "        gt_float = gt / 255.\n",
    "\n",
    "        sample = (img_float.astype(np.float32), gt_float.astype(np.float32))\n",
    "\n",
    "        if self.transform:\n",
    "            sample = self.transform(sample)\n",
    "\n",
    "        return sample"
   ]
  },
  {
   "cell_type": "code",
   "execution_count": 4,
   "metadata": {},
   "outputs": [],
   "source": [
    "class ToTensor(object):\n",
    "\n",
    "    def __call__(self, sample):\n",
    "        img, gt = sample[0], sample[1]\n",
    "\n",
    "        # swapping axes\n",
    "        img = img.transpose((2, 0, 1))\n",
    "        gt = gt.transpose((2, 0, 1))\n",
    "        return (torch.from_numpy(img), torch.from_numpy(gt))"
   ]
  },
  {
   "cell_type": "code",
   "execution_count": 6,
   "metadata": {},
   "outputs": [],
   "source": [
    "ds = VaihingenDataset(TILE_PATH, TILE_GT_PATH, transform=ToTensor())"
   ]
  },
  {
   "cell_type": "code",
   "execution_count": 7,
   "metadata": {},
   "outputs": [
    {
     "name": "stdout",
     "output_type": "stream",
     "text": [
      "N1 train size: 1463/14636.\n",
      "N2 train size: 10245/14636.\n",
      "Validation size: 2928/14636.\n"
     ]
    }
   ],
   "source": [
    "n1_len = int(0.1 * len(ds))\n",
    "n2_len = int(0.7 * len(ds))\n",
    "n_valid_len = len(ds) - n1_len - n2_len\n",
    "\n",
    "print('N1 train size: {}/{}.'.format(n1_len, len(ds)))\n",
    "print('N2 train size: {}/{}.'.format(n2_len, len(ds)))\n",
    "print('Validation size: {}/{}.'.format(n_valid_len, len(ds)))\n",
    "\n",
    "n1_train, n2_train, n_valid = random_split(ds, [n1_len, n2_len, n_valid_len])"
   ]
  },
  {
   "cell_type": "markdown",
   "metadata": {},
   "source": [
    "We define a data loader for each subset"
   ]
  },
  {
   "cell_type": "code",
   "execution_count": 8,
   "metadata": {},
   "outputs": [],
   "source": [
    "BATCH_SIZE = 16\n",
    "\n",
    "n1_dataloader = DataLoader(n1_train, batch_size=BATCH_SIZE)\n",
    "n2_dataloader = DataLoader(n2_train, batch_size=BATCH_SIZE)\n",
    "n_valid_dataloader = DataLoader(n_valid, batch_size=BATCH_SIZE)"
   ]
  },
  {
   "cell_type": "markdown",
   "metadata": {},
   "source": [
    "### Implementing the model\n",
    "\n",
    "We are using a Unet model; the architecture is part of the tutorial that can be found [here](https://www.youtube.com/watch?v=IHq1t7NxS8k)."
   ]
  },
  {
   "cell_type": "code",
   "execution_count": 62,
   "metadata": {},
   "outputs": [],
   "source": [
    "import torch\n",
    "import torch.nn as nn\n",
    "import torchvision.transforms.functional as TF\n",
    "\n",
    "class DoubleConv(nn.Module):\n",
    "    def __init__(self, in_channels, out_channels):\n",
    "        super(DoubleConv, self).__init__()\n",
    "        self.conv = nn.Sequential(\n",
    "            nn.Conv2d(in_channels, out_channels, 3, 1, 1, bias=False),\n",
    "            nn.BatchNorm2d(out_channels),\n",
    "            nn.ReLU(inplace=True),\n",
    "            nn.Conv2d(out_channels, out_channels, 3, 1, 1, bias=False),\n",
    "            nn.BatchNorm2d(out_channels),\n",
    "            nn.ReLU(inplace=True),\n",
    "        )\n",
    "\n",
    "    def forward(self, x):\n",
    "        return self.conv(x)\n",
    "\n",
    "class UNET(nn.Module):\n",
    "    def __init__(\n",
    "            self, in_channels=3, out_channels=3, features=[32, 64, 128],\n",
    "    ):\n",
    "        super(UNET, self).__init__()\n",
    "        self.ups = nn.ModuleList()\n",
    "        self.downs = nn.ModuleList()\n",
    "        self.pool = nn.MaxPool2d(kernel_size=2, stride=2)\n",
    "\n",
    "        # Down part of UNET\n",
    "        for feature in features:\n",
    "            self.downs.append(DoubleConv(in_channels, feature))\n",
    "            in_channels = feature\n",
    "\n",
    "        # Up part of UNET\n",
    "        for feature in reversed(features):\n",
    "            self.ups.append(\n",
    "                nn.ConvTranspose2d(\n",
    "                    feature*2, feature, kernel_size=2, stride=2,\n",
    "                )\n",
    "            )\n",
    "            self.ups.append(DoubleConv(feature*2, feature))\n",
    "\n",
    "        self.bottleneck = DoubleConv(features[-1], features[-1]*2)\n",
    "        self.final_conv = nn.Conv2d(features[0], out_channels, kernel_size=1)\n",
    "        self.sigmoid = nn.Sigmoid()\n",
    "\n",
    "    def forward(self, x):\n",
    "        skip_connections = []\n",
    "\n",
    "        for down in self.downs:\n",
    "            x = down(x)\n",
    "            skip_connections.append(x)\n",
    "            x = self.pool(x)\n",
    "\n",
    "        x = self.bottleneck(x)\n",
    "        skip_connections = skip_connections[::-1]\n",
    "\n",
    "        for idx in range(0, len(self.ups), 2):\n",
    "            x = self.ups[idx](x)\n",
    "            skip_connection = skip_connections[idx//2]\n",
    "\n",
    "            if x.shape != skip_connection.shape:\n",
    "                x = TF.resize(x, size=skip_connection.shape[2:])\n",
    "\n",
    "            concat_skip = torch.cat((skip_connection, x), dim=1)\n",
    "            x = self.ups[idx+1](concat_skip)\n",
    "            \n",
    "        x = self.final_conv(x)\n",
    "\n",
    "        return self.sigmoid(x)"
   ]
  },
  {
   "cell_type": "code",
   "execution_count": 63,
   "metadata": {},
   "outputs": [],
   "source": [
    "model = UNET(out_channels=3)\n",
    "\n",
    "loss_fn = nn.MSELoss()\n",
    "optimizer = torch.optim.Adam(model.parameters(), lr=1e-3)"
   ]
  },
  {
   "cell_type": "code",
   "execution_count": 64,
   "metadata": {},
   "outputs": [
    {
     "name": "stdout",
     "output_type": "stream",
     "text": [
      "Using cuda device\n"
     ]
    }
   ],
   "source": [
    "device = \"cuda\" if torch.cuda.is_available() else \"cpu\"\n",
    "print(\"Using {} device\".format(device))\n",
    "\n",
    "if torch.cuda.is_available():\n",
    "    model.cuda()"
   ]
  },
  {
   "cell_type": "code",
   "execution_count": 65,
   "metadata": {},
   "outputs": [],
   "source": [
    "def train(dataloader, model, loss_fn, optimizer):\n",
    "  \n",
    "    size = len(dataloader.dataset)\n",
    "    for batch, (X, y) in enumerate(dataloader):\n",
    "\n",
    "        X, y = X.to(device), y.to(device)\n",
    "        \n",
    "        pred = model(X)\n",
    "        loss = loss_fn(pred, y)\n",
    "        \n",
    "        optimizer.zero_grad()\n",
    "        loss.backward()\n",
    "        optimizer.step()\n",
    "\n",
    "        if batch % 20 == 0:\n",
    "            loss, current = loss.item(), batch * len(X)\n",
    "            print(f\"loss: {loss:>7f}  [{current:>5d}/{size:>5d}]\")"
   ]
  },
  {
   "cell_type": "code",
   "execution_count": 66,
   "metadata": {},
   "outputs": [],
   "source": [
    "def test(dataloader, model, loss_fn):\n",
    "    size = len(dataloader.dataset)\n",
    "    num_batches = len(dataloader)\n",
    "    model.eval()\n",
    "    test_loss, correct = 0, 0\n",
    "    with torch.no_grad():\n",
    "        for X, y in dataloader:\n",
    "            X, y = X.to(device), y.to(device)\n",
    "            pred = model(X)\n",
    "            test_loss += loss_fn(pred, y).item()\n",
    "    test_loss /= num_batches\n",
    "    print(f\"Test avg loss: {test_loss:>8f} \\n\")"
   ]
  },
  {
   "cell_type": "code",
   "execution_count": 67,
   "metadata": {},
   "outputs": [
    {
     "name": "stdout",
     "output_type": "stream",
     "text": [
      "Epoch 1\n",
      "-------------------------------\n",
      "loss: 0.251165  [    0/ 1463]\n",
      "loss: 0.128273  [  320/ 1463]\n",
      "loss: 0.128287  [  640/ 1463]\n",
      "loss: 0.103834  [  960/ 1463]\n",
      "loss: 0.111390  [ 1280/ 1463]\n",
      "Test avg loss: 0.109402 \n",
      "\n",
      "Epoch 2\n",
      "-------------------------------\n",
      "loss: 0.097291  [    0/ 1463]\n",
      "loss: 0.091014  [  320/ 1463]\n",
      "loss: 0.100177  [  640/ 1463]\n",
      "loss: 0.100669  [  960/ 1463]\n",
      "loss: 0.086559  [ 1280/ 1463]\n",
      "Test avg loss: 0.086619 \n",
      "\n",
      "Epoch 3\n",
      "-------------------------------\n",
      "loss: 0.067389  [    0/ 1463]\n",
      "loss: 0.085164  [  320/ 1463]\n",
      "loss: 0.090507  [  640/ 1463]\n",
      "loss: 0.083714  [  960/ 1463]\n",
      "loss: 0.092342  [ 1280/ 1463]\n",
      "Test avg loss: 0.085013 \n",
      "\n",
      "Epoch 4\n",
      "-------------------------------\n",
      "loss: 0.070806  [    0/ 1463]\n",
      "loss: 0.093049  [  320/ 1463]\n",
      "loss: 0.092186  [  640/ 1463]\n",
      "loss: 0.082743  [  960/ 1463]\n",
      "loss: 0.069721  [ 1280/ 1463]\n",
      "Test avg loss: 0.087375 \n",
      "\n",
      "Epoch 5\n",
      "-------------------------------\n",
      "loss: 0.067369  [    0/ 1463]\n",
      "loss: 0.090263  [  320/ 1463]\n",
      "loss: 0.085316  [  640/ 1463]\n",
      "loss: 0.076880  [  960/ 1463]\n",
      "loss: 0.063543  [ 1280/ 1463]\n",
      "Test avg loss: 0.083520 \n",
      "\n",
      "Epoch 6\n",
      "-------------------------------\n",
      "loss: 0.063465  [    0/ 1463]\n",
      "loss: 0.084890  [  320/ 1463]\n",
      "loss: 0.096267  [  640/ 1463]\n",
      "loss: 0.092673  [  960/ 1463]\n",
      "loss: 0.066060  [ 1280/ 1463]\n",
      "Test avg loss: 0.081499 \n",
      "\n",
      "Done!\n"
     ]
    }
   ],
   "source": [
    "torch.cuda.empty_cache()\n",
    "\n",
    "epochs = 6\n",
    "for t in range(epochs):\n",
    "    print(f\"Epoch {t+1}\\n-------------------------------\")\n",
    "    train(n1_dataloader, model, loss_fn, optimizer)\n",
    "    test(n_valid_dataloader, model, loss_fn)\n",
    "print(\"Done!\")"
   ]
  },
  {
   "cell_type": "markdown",
   "metadata": {},
   "source": [
    "Saving the model"
   ]
  },
  {
   "cell_type": "code",
   "execution_count": 68,
   "metadata": {},
   "outputs": [],
   "source": [
    "torch.save(model.state_dict(), \"model_correct_long_sigmoid.pth\")"
   ]
  },
  {
   "cell_type": "markdown",
   "metadata": {},
   "source": [
    "Some example segmentations with the trained model"
   ]
  },
  {
   "cell_type": "code",
   "execution_count": 70,
   "metadata": {},
   "outputs": [
    {
     "data": {
      "image/png": "[encoded data removed]",
      "text/plain": [
       "<Figure size 4320x720 with 20 Axes>"
      ]
     },
     "metadata": {},
     "output_type": "display_data"
    }
   ],
   "source": [
    "fig=plt.figure(figsize=(60,10))\n",
    "columns = 12\n",
    "rows = 2\n",
    "\n",
    "num_examples = 10\n",
    "\n",
    "i = 1\n",
    "for idx in range(num_examples):\n",
    "    fig.add_subplot(rows, columns, i)\n",
    "    plt.xticks([])\n",
    "    plt.yticks([])\n",
    "    plt.imshow(torch.transpose(n_valid[idx][1], 0, 2))\n",
    "    fig.add_subplot(rows, columns, columns + i)\n",
    "    \n",
    "    model.eval()\n",
    "    with torch.no_grad():\n",
    "        pred = model(torch.unsqueeze(n_valid[idx][0], dim=0).cuda())\n",
    "        pred = (pred > 0.5).float()\n",
    "    \n",
    "    plt.xticks([])\n",
    "    plt.yticks([])\n",
    "    plt.imshow(torch.transpose(torch.squeeze(pred.cpu()), 0, 2), cmap='gray')\n",
    "    i += 1\n",
    "        \n",
    "plt.xticks([])\n",
    "plt.yticks([])\n",
    "plt.tight_layout()"
   ]
  }
 ],
 "metadata": {
  "kernelspec": {
   "display_name": "Python 3",
   "language": "python",
   "name": "python3"
  },
  "language_info": {
   "codemirror_mode": {
    "name": "ipython",
    "version": 3
   },
   "file_extension": ".py",
   "mimetype": "text/x-python",
   "name": "python",
   "nbconvert_exporter": "python",
   "pygments_lexer": "ipython3",
   "version": "3.6.7"
  }
 },
 "nbformat": 4,
 "nbformat_minor": 2
}
